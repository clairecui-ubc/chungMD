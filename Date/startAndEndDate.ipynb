{
 "cells": [
  {
   "cell_type": "markdown",
   "metadata": {},
   "source": [
    "# Get the year in the date_created field\n",
    "First find all year in dates with four digits, then three, then two.\n",
    "For a date range, the function will return to all years, for example, it will return [1926, 1940] for [between 1926-11-30 and 1940-11-02]. The special charactors (\"?\",\"-\") will also be extracted."
   ]
  },
  {
   "cell_type": "code",
   "execution_count": 41,
   "metadata": {},
   "outputs": [],
   "source": [
    "# Use Regular Expression Module in python to extract dates. \n",
    "# Documentation available at https://docs.python.org/3.6/library/re.html\n",
    "import re"
   ]
  },
  {
   "cell_type": "code",
   "execution_count": 42,
   "metadata": {},
   "outputs": [],
   "source": [
    "def getDate(s):\n",
    "#This expression will return to the \n",
    "    d=re.findall(r'([1-3][0-9]{3}.*?)', s);\n",
    "    if len(d)==0:\n",
    "        d=re.findall(r'([1-3][0-9]{2}\\D)',s);\n",
    "        if len(d)==0:\n",
    "            d=re.findall(r'([1-3][0-9]{1}\\D\\D)',s);\n",
    "#Always ensure the second date is larger than the first date \n",
    "    if len(d)==2:\n",
    "        if d[0]>d[1]:\n",
    "            d[0],d[1]=d[1],d[0]\n",
    "    return d"
   ]
  },
  {
   "cell_type": "code",
   "execution_count": 43,
   "metadata": {
    "scrolled": true
   },
   "outputs": [
    {
     "data": {
      "text/plain": [
       "['196?', '196?']"
      ]
     },
     "execution_count": 43,
     "metadata": {},
     "output_type": "execute_result"
    }
   ],
   "source": [
    "getDate(\"[between 196?-11-04 and 196?-11-08]\")"
   ]
  },
  {
   "cell_type": "code",
   "execution_count": 44,
   "metadata": {},
   "outputs": [
    {
     "data": {
      "text/plain": [
       "['189-']"
      ]
     },
     "execution_count": 44,
     "metadata": {},
     "output_type": "execute_result"
    }
   ],
   "source": [
    "getDate(\"[189-?]\")"
   ]
  },
  {
   "cell_type": "code",
   "execution_count": 45,
   "metadata": {},
   "outputs": [
    {
     "data": {
      "text/plain": [
       "['1965', '1967']"
      ]
     },
     "execution_count": 45,
     "metadata": {},
     "output_type": "execute_result"
    }
   ],
   "source": [
    "getDate(\"[between 1967-11-04 and 1965-11-08]\")"
   ]
  },
  {
   "cell_type": "markdown",
   "metadata": {},
   "source": [
    "# Extract start and enddate\n",
    "Get the start and end date from dates extract from the date_created field. \n",
    "* For four digits dates, it will return to the all four digit\n",
    "* For three digits dates, it will return to the first three digits and 0 or 9, e.g. start date for 191- is 1910, end date is 1919\n",
    "* For two digits dates (centry certain), it will return to the first two digits and 00 or 99, e.g. start date for 19-? is 1900, end date is 1999\n",
    "\n",
    "For the dates only have one year (1890, [ca,1890], 1890?), the start and end date will both be set as 1890."
   ]
  },
  {
   "cell_type": "code",
   "execution_count": 46,
   "metadata": {},
   "outputs": [],
   "source": [
    "# The function to extract startDate\n",
    "def startDate(d):\n",
    "    if len(d)>0:\n",
    "        if re.match(r'([1-3][0-9]{3}.*?)',d[0]):\n",
    "            return d[0][:4];\n",
    "        if re.match(r'([1-3][0-9]{2}\\D)',d[0]):\n",
    "            return d[0][:3]+'0';\n",
    "        if re.match(r'([1-3][0-9]{1}\\D\\D)',d[0]):\n",
    "            return d[0][:2]+'00'"
   ]
  },
  {
   "cell_type": "code",
   "execution_count": 47,
   "metadata": {},
   "outputs": [
    {
     "data": {
      "text/plain": [
       "'1900'"
      ]
     },
     "execution_count": 47,
     "metadata": {},
     "output_type": "execute_result"
    }
   ],
   "source": [
    "startDate(['19--'])"
   ]
  },
  {
   "cell_type": "code",
   "execution_count": 48,
   "metadata": {},
   "outputs": [
    {
     "data": {
      "text/plain": [
       "'1960'"
      ]
     },
     "execution_count": 48,
     "metadata": {},
     "output_type": "execute_result"
    }
   ],
   "source": [
    "startDate(getDate(\"[between 196?-11-04 and 196?-11-08]\"))"
   ]
  },
  {
   "cell_type": "code",
   "execution_count": 49,
   "metadata": {},
   "outputs": [],
   "source": [
    "#The function to extract endDate\n",
    "def endDate(d):\n",
    "    if len(d)==2:\n",
    "        if re.match(r'([1-3][0-9]{3}.*?)',d[1]):\n",
    "            return d[1][:4];\n",
    "        elif re.match(r'([1-3][0-9]{2}\\D)',d[1]):\n",
    "            return d[1][:3]+'9';\n",
    "        elif re.match(r'([1-3][0-9]{1}\\D\\D)',d[1]):\n",
    "            return d[1][:2]+'99';\n",
    "    if len(d)==1:\n",
    "        if re.match(r'([1-3][0-9]{3}.*?)',d[0]):\n",
    "            return d[0][:4];\n",
    "        elif re.match(r'([1-3][0-9]{2}\\D)',d[0]):\n",
    "            return d[0][:3]+'9';\n",
    "        elif re.match(r'([1-3][0-9]{1}\\D\\D)',d[0]):\n",
    "            return d[0][:2]+'99'; "
   ]
  },
  {
   "cell_type": "code",
   "execution_count": 50,
   "metadata": {},
   "outputs": [
    {
     "data": {
      "text/plain": [
       "'1939'"
      ]
     },
     "execution_count": 50,
     "metadata": {},
     "output_type": "execute_result"
    }
   ],
   "source": [
    "endDate(['193?'])"
   ]
  },
  {
   "cell_type": "code",
   "execution_count": 51,
   "metadata": {},
   "outputs": [
    {
     "data": {
      "text/plain": [
       "'1999'"
      ]
     },
     "execution_count": 51,
     "metadata": {},
     "output_type": "execute_result"
    }
   ],
   "source": [
    "endDate(['19--'])"
   ]
  },
  {
   "cell_type": "code",
   "execution_count": 52,
   "metadata": {},
   "outputs": [
    {
     "data": {
      "text/plain": [
       "'1969'"
      ]
     },
     "execution_count": 52,
     "metadata": {},
     "output_type": "execute_result"
    }
   ],
   "source": [
    "endDate(getDate(\"[between 196?-11-04 and 196?-11-08]\"))"
   ]
  },
  {
   "cell_type": "markdown",
   "metadata": {},
   "source": [
    "# Add Start and End Dates for records"
   ]
  },
  {
   "cell_type": "code",
   "execution_count": 53,
   "metadata": {},
   "outputs": [],
   "source": [
    "# Use pandas to store the data\n",
    "# Documentation of pandas available at http://pandas.pydata.org/pandas-docs/stable/\n",
    "import pandas as pd"
   ]
  },
  {
   "cell_type": "markdown",
   "metadata": {},
   "source": [
    "### Import the csv file that contains the ID and the date\n",
    "dates.csv should look like\n",
    "\n",
    "| ID        | RBSC_Date Created |\n",
    "| ------------- |-------------:|\n",
    "| 1      | [ca. 1920] |\n",
    "| 2      | [1918?] \t     |\n",
    "| 3 | [between 1930 and 1939?]   |\n"
   ]
  },
  {
   "cell_type": "code",
   "execution_count": 54,
   "metadata": {},
   "outputs": [],
   "source": [
    "df_date = pd.read_csv('dates.csv')"
   ]
  },
  {
   "cell_type": "code",
   "execution_count": 55,
   "metadata": {},
   "outputs": [],
   "source": [
    "df_date =df_date.set_index(\"ID\")"
   ]
  },
  {
   "cell_type": "code",
   "execution_count": 56,
   "metadata": {},
   "outputs": [
    {
     "name": "stderr",
     "output_type": "stream",
     "text": [
      "C:\\Users\\cuican61\\Programs\\anoconda\\lib\\site-packages\\pandas\\core\\frame.py:6201: FutureWarning: Sorting because non-concatenation axis is not aligned. A future version\n",
      "of pandas will change to not sort by default.\n",
      "\n",
      "To accept the future behavior, pass 'sort=True'.\n",
      "\n",
      "To retain the current behavior and silence the warning, pass sort=False\n",
      "\n",
      "  sort=sort)\n"
     ]
    }
   ],
   "source": [
    "# Add two new columns named \"startDates\" and \"endDates\"\n",
    "col_names=['startDates','endDates']\n",
    "df_date_new=pd.DataFrame(columns=col_names)\n",
    "df_date=df_date.append(df_date_new)"
   ]
  },
  {
   "cell_type": "code",
   "execution_count": 57,
   "metadata": {},
   "outputs": [
    {
     "data": {
      "text/html": [
       "<div>\n",
       "<style scoped>\n",
       "    .dataframe tbody tr th:only-of-type {\n",
       "        vertical-align: middle;\n",
       "    }\n",
       "\n",
       "    .dataframe tbody tr th {\n",
       "        vertical-align: top;\n",
       "    }\n",
       "\n",
       "    .dataframe thead th {\n",
       "        text-align: right;\n",
       "    }\n",
       "</style>\n",
       "<table border=\"1\" class=\"dataframe\">\n",
       "  <thead>\n",
       "    <tr style=\"text-align: right;\">\n",
       "      <th></th>\n",
       "      <th>RBSC_Date Created</th>\n",
       "      <th>endDates</th>\n",
       "      <th>startDates</th>\n",
       "    </tr>\n",
       "  </thead>\n",
       "  <tbody>\n",
       "    <tr>\n",
       "      <th>1</th>\n",
       "      <td>[ca. 1920]</td>\n",
       "      <td>NaN</td>\n",
       "      <td>NaN</td>\n",
       "    </tr>\n",
       "    <tr>\n",
       "      <th>2</th>\n",
       "      <td>[1918?]</td>\n",
       "      <td>NaN</td>\n",
       "      <td>NaN</td>\n",
       "    </tr>\n",
       "    <tr>\n",
       "      <th>3</th>\n",
       "      <td>[between 1930 and 1939?]</td>\n",
       "      <td>NaN</td>\n",
       "      <td>NaN</td>\n",
       "    </tr>\n",
       "    <tr>\n",
       "      <th>4</th>\n",
       "      <td>1939-05-06</td>\n",
       "      <td>NaN</td>\n",
       "      <td>NaN</td>\n",
       "    </tr>\n",
       "    <tr>\n",
       "      <th>5</th>\n",
       "      <td>1921-07-02</td>\n",
       "      <td>NaN</td>\n",
       "      <td>NaN</td>\n",
       "    </tr>\n",
       "  </tbody>\n",
       "</table>\n",
       "</div>"
      ],
      "text/plain": [
       "          RBSC_Date Created endDates startDates\n",
       "1                [ca. 1920]      NaN        NaN\n",
       "2                   [1918?]      NaN        NaN\n",
       "3  [between 1930 and 1939?]      NaN        NaN\n",
       "4                1939-05-06      NaN        NaN\n",
       "5                1921-07-02      NaN        NaN"
      ]
     },
     "execution_count": 57,
     "metadata": {},
     "output_type": "execute_result"
    }
   ],
   "source": [
    "df_date.head()"
   ]
  },
  {
   "cell_type": "markdown",
   "metadata": {},
   "source": [
    "### Loop through all records to add start and end date"
   ]
  },
  {
   "cell_type": "code",
   "execution_count": 58,
   "metadata": {},
   "outputs": [],
   "source": [
    "for i,v in df_date['RBSC_Date Created'].iteritems():\n",
    "    if type(v)!=float:\n",
    "        df_date['startDates'][i]=startDate(getDate(v));\n",
    "        df_date['endDates'][i]=endDate(getDate(v))"
   ]
  },
  {
   "cell_type": "code",
   "execution_count": 59,
   "metadata": {
    "scrolled": true
   },
   "outputs": [
    {
     "data": {
      "text/html": [
       "<div>\n",
       "<style scoped>\n",
       "    .dataframe tbody tr th:only-of-type {\n",
       "        vertical-align: middle;\n",
       "    }\n",
       "\n",
       "    .dataframe tbody tr th {\n",
       "        vertical-align: top;\n",
       "    }\n",
       "\n",
       "    .dataframe thead th {\n",
       "        text-align: right;\n",
       "    }\n",
       "</style>\n",
       "<table border=\"1\" class=\"dataframe\">\n",
       "  <thead>\n",
       "    <tr style=\"text-align: right;\">\n",
       "      <th></th>\n",
       "      <th>RBSC_Date Created</th>\n",
       "      <th>endDates</th>\n",
       "      <th>startDates</th>\n",
       "    </tr>\n",
       "  </thead>\n",
       "  <tbody>\n",
       "    <tr>\n",
       "      <th>1</th>\n",
       "      <td>[ca. 1920]</td>\n",
       "      <td>1920</td>\n",
       "      <td>1920</td>\n",
       "    </tr>\n",
       "    <tr>\n",
       "      <th>2</th>\n",
       "      <td>[1918?]</td>\n",
       "      <td>1918</td>\n",
       "      <td>1918</td>\n",
       "    </tr>\n",
       "    <tr>\n",
       "      <th>3</th>\n",
       "      <td>[between 1930 and 1939?]</td>\n",
       "      <td>1939</td>\n",
       "      <td>1930</td>\n",
       "    </tr>\n",
       "    <tr>\n",
       "      <th>4</th>\n",
       "      <td>1939-05-06</td>\n",
       "      <td>1939</td>\n",
       "      <td>1939</td>\n",
       "    </tr>\n",
       "    <tr>\n",
       "      <th>5</th>\n",
       "      <td>1921-07-02</td>\n",
       "      <td>1921</td>\n",
       "      <td>1921</td>\n",
       "    </tr>\n",
       "  </tbody>\n",
       "</table>\n",
       "</div>"
      ],
      "text/plain": [
       "          RBSC_Date Created endDates startDates\n",
       "1                [ca. 1920]     1920       1920\n",
       "2                   [1918?]     1918       1918\n",
       "3  [between 1930 and 1939?]     1939       1930\n",
       "4                1939-05-06     1939       1939\n",
       "5                1921-07-02     1921       1921"
      ]
     },
     "execution_count": 59,
     "metadata": {},
     "output_type": "execute_result"
    }
   ],
   "source": [
    "df_date.head()"
   ]
  },
  {
   "cell_type": "code",
   "execution_count": 60,
   "metadata": {},
   "outputs": [],
   "source": [
    "#Export the date to csv file\n",
    "df_date.to_csv('startAndEndDate.csv')"
   ]
  },
  {
   "cell_type": "markdown",
   "metadata": {},
   "source": [
    "\n",
    "---\n",
    "## References\n",
    "1. Regular Expression (re) documentation https://docs.python.org/3.6/library/re.html\n",
    "2. Pandas documentation http://pandas.pydata.org/pandas-docs/stable/\n",
    "\n",
    "---"
   ]
  },
  {
   "cell_type": "markdown",
   "metadata": {},
   "source": [
    "## Appendix 1: Dates formats in Chung Metadata\n",
    "#### Case 1: Dates contains four-digits year\n",
    "* Between YYYY[-MM-DD] and YYYY[-MM-DD]\n",
    "    * [between 1950 and 1979]\n",
    "    * [between 1860 and 1939?]\n",
    "    * [between 1915 and 1918]\n",
    "    * [between 1926-11-30 and 1940-11-02]\n",
    "    * [between 1928-06-24 and 1928-07-01?]\n",
    "    * between 1910-09-20 and 1911-03-18?] \n",
    "    * between 1957-02 and 1957-03\n",
    "    * [between 1922-1989?]\n",
    "* YYYY\n",
    "    * [1860?]\n",
    "    * [1864]\n",
    "    * [1885-11-07]\n",
    "    * [1900-11]\n",
    "    * [1996-01-13?]\n",
    "    * [1838-01]\n",
    "    * 1852\n",
    "* YYYY-YYYY\n",
    "    * [1860-1870]\n",
    "    * [1870-1880?]\n",
    "    * [2001]-2008\n",
    "    * 1828-1829\n",
    "* [DD]-MMM-YYYY\n",
    "    * [24 Mar.- 11 June 1913]\n",
    "    * 27 July 2001\n",
    "    * May 1937\n",
    "* [not after 1907]\n",
    "* [not before 1800]\n",
    "* [ca. 1879]\n",
    "\n",
    "#### Case 2: Dates contains three-digits year\n",
    "* [189-?], [191-]\n",
    "* [between 193?-09-18 and 193?-09-26]\n",
    "* [193?-07-19]\n",
    "\n",
    "#### Case 3: Dates contains two-digits year\n",
    "* 2 Aug. [19-]\n",
    "\n",
    "#### Others\n",
    "* [n.d.]\n",
    "* [unknown]"
   ]
  },
  {
   "cell_type": "markdown",
   "metadata": {},
   "source": [
    "## Appendix 2: test on regular expression"
   ]
  },
  {
   "cell_type": "markdown",
   "metadata": {},
   "source": [
    "### Case 1: Four-digits year"
   ]
  },
  {
   "cell_type": "code",
   "execution_count": 61,
   "metadata": {},
   "outputs": [],
   "source": [
    "import re"
   ]
  },
  {
   "cell_type": "code",
   "execution_count": 62,
   "metadata": {},
   "outputs": [
    {
     "data": {
      "text/plain": [
       "['1961', '1961']"
      ]
     },
     "execution_count": 62,
     "metadata": {},
     "output_type": "execute_result"
    }
   ],
   "source": [
    "s=\"[between 1961-11-04 and 1961-11-08]\"\n",
    "d = re.findall(r'([1-3][0-9]{3}.*?)', s)\n",
    "d"
   ]
  },
  {
   "cell_type": "code",
   "execution_count": 63,
   "metadata": {},
   "outputs": [
    {
     "data": {
      "text/plain": [
       "['1879']"
      ]
     },
     "execution_count": 63,
     "metadata": {},
     "output_type": "execute_result"
    }
   ],
   "source": [
    "s='[ca. 1879]'\n",
    "d = re.findall(r'([1-3][0-9]{3}.*?)', s)\n",
    "d"
   ]
  },
  {
   "cell_type": "code",
   "execution_count": 64,
   "metadata": {},
   "outputs": [
    {
     "data": {
      "text/plain": [
       "['2001', '2008']"
      ]
     },
     "execution_count": 64,
     "metadata": {},
     "output_type": "execute_result"
    }
   ],
   "source": [
    "s='[2001]-2008'\n",
    "d = re.findall(r'([1-3][0-9]{3}.*?)', s)\n",
    "d"
   ]
  },
  {
   "cell_type": "code",
   "execution_count": 65,
   "metadata": {},
   "outputs": [
    {
     "data": {
      "text/plain": [
       "['1962']"
      ]
     },
     "execution_count": 65,
     "metadata": {},
     "output_type": "execute_result"
    }
   ],
   "source": [
    "s='1962'\n",
    "d = re.findall(r'([1-3][0-9]{3}.*?)', s)\n",
    "d"
   ]
  },
  {
   "cell_type": "code",
   "execution_count": 66,
   "metadata": {},
   "outputs": [
    {
     "data": {
      "text/plain": [
       "['1913']"
      ]
     },
     "execution_count": 66,
     "metadata": {},
     "output_type": "execute_result"
    }
   ],
   "source": [
    "s='[24 Mar.- 11 June 1913]'\n",
    "d = re.findall(r'([1-3][0-9]{3}.*?)', s)\n",
    "d"
   ]
  },
  {
   "cell_type": "markdown",
   "metadata": {},
   "source": [
    "### Case 2: Three-digits year\n",
    "including 199?, [193?-07-19], [193-], '[between 196?-11-04 and 196?-11-08]'"
   ]
  },
  {
   "cell_type": "code",
   "execution_count": 67,
   "metadata": {},
   "outputs": [
    {
     "name": "stdout",
     "output_type": "stream",
     "text": [
      "199\n"
     ]
    }
   ],
   "source": [
    "s='199?'\n",
    "re.match('\\d\\d\\d.?',s)\n",
    "print(s[:3])"
   ]
  },
  {
   "cell_type": "code",
   "execution_count": 68,
   "metadata": {},
   "outputs": [
    {
     "data": {
      "text/plain": [
       "['193?']"
      ]
     },
     "execution_count": 68,
     "metadata": {},
     "output_type": "execute_result"
    }
   ],
   "source": [
    "s='[193?-07-19]'\n",
    "d=re.findall(r'([1-3][0-9]{2}.+?)',s)\n",
    "d"
   ]
  },
  {
   "cell_type": "code",
   "execution_count": 69,
   "metadata": {},
   "outputs": [
    {
     "data": {
      "text/plain": [
       "['196?', '196?']"
      ]
     },
     "execution_count": 69,
     "metadata": {},
     "output_type": "execute_result"
    }
   ],
   "source": [
    "s='[between 196?-11-04 and 196?-11-08]'\n",
    "d=re.findall(r'([1-3][0-9]{2}.+?)',s)\n",
    "d"
   ]
  },
  {
   "cell_type": "code",
   "execution_count": 70,
   "metadata": {},
   "outputs": [
    {
     "data": {
      "text/plain": [
       "[]"
      ]
     },
     "execution_count": 70,
     "metadata": {},
     "output_type": "execute_result"
    }
   ],
   "source": [
    "s='[193-]'\n",
    "d=re.findall(r'([1-3][0-9]{2}.+-)',s)\n",
    "d"
   ]
  },
  {
   "cell_type": "code",
   "execution_count": 71,
   "metadata": {},
   "outputs": [
    {
     "data": {
      "text/plain": [
       "['196?', '196?']"
      ]
     },
     "execution_count": 71,
     "metadata": {},
     "output_type": "execute_result"
    }
   ],
   "source": [
    "s='[between 196?-11-04 and 196?-11-08]'\n",
    "d=re.findall(r'([1-3][0-9]{2}\\D)',s)\n",
    "d"
   ]
  },
  {
   "cell_type": "code",
   "execution_count": 72,
   "metadata": {},
   "outputs": [
    {
     "data": {
      "text/plain": [
       "['193-']"
      ]
     },
     "execution_count": 72,
     "metadata": {},
     "output_type": "execute_result"
    }
   ],
   "source": [
    "s='[193-?]'\n",
    "d=re.findall(r'([1-3][0-9]{2}\\D)',s)\n",
    "d"
   ]
  },
  {
   "cell_type": "markdown",
   "metadata": {},
   "source": [
    "### Case 3: Two-digits year"
   ]
  },
  {
   "cell_type": "code",
   "execution_count": 73,
   "metadata": {},
   "outputs": [
    {
     "data": {
      "text/plain": [
       "['19--']"
      ]
     },
     "execution_count": 73,
     "metadata": {},
     "output_type": "execute_result"
    }
   ],
   "source": [
    "s='[19--?]'\n",
    "d=re.findall(r'([1-3][0-9]{1}\\D\\D)',s)\n",
    "d"
   ]
  },
  {
   "cell_type": "markdown",
   "metadata": {},
   "source": [
    "### Universal"
   ]
  },
  {
   "cell_type": "code",
   "execution_count": 74,
   "metadata": {},
   "outputs": [
    {
     "name": "stdout",
     "output_type": "stream",
     "text": [
      "['1913']\n",
      "['1961', '11-0', '1961', '11-0']\n",
      "['1879']\n",
      "['19--']\n",
      "['196?', '11-0', '196?', '11-0']\n"
     ]
    }
   ],
   "source": [
    "st=['[24 Mar.- 11 June 1913]', \"[between 1961-11-04 and 1961-11-08]\",'[ca. 1879]',\"[19--?]\",'[between 196?-11-04 and 196?-11-08]']\n",
    "for s in st:\n",
    "    d=re.findall(r'([1-3][0-9]{1}\\S\\S)',s)\n",
    "    print(d)"
   ]
  }
 ],
 "metadata": {
  "kernelspec": {
   "display_name": "Python 3",
   "language": "python",
   "name": "python3"
  },
  "language_info": {
   "codemirror_mode": {
    "name": "ipython",
    "version": 3
   },
   "file_extension": ".py",
   "mimetype": "text/x-python",
   "name": "python",
   "nbconvert_exporter": "python",
   "pygments_lexer": "ipython3",
   "version": "3.6.5"
  }
 },
 "nbformat": 4,
 "nbformat_minor": 2
}

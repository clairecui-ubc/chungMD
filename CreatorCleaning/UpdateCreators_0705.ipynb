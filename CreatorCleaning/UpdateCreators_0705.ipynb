{
 "cells": [
  {
   "cell_type": "markdown",
   "metadata": {},
   "source": [
    "# Creator Update\n",
    "\n",
    "### Steps\n",
    "\n",
    "1. Import the dictionary (named \"dict.csv\") to update creators. The dictionary has two columns - \"Old\" and \"New\", based on the data cleaning work done by Claire Cui and Claire Williams. The update history and process could be found in 2018-07-04_Creators List.xlsx.\n",
    "2. Import the file (\"chung_creator.csv\") contains ID and creators of the Chung collection. The creator names in this file will be replaced by the new creator name according to the dictionary imported from the previous step.\n",
    "3. Replace new_creator with the information in \"dict.csv\""
   ]
  },
  {
   "cell_type": "markdown",
   "metadata": {},
   "source": [
    "## Step 1: Import dict.csv"
   ]
  },
  {
   "cell_type": "code",
   "execution_count": 1,
   "metadata": {},
   "outputs": [],
   "source": [
    "import pandas as pd\n",
    "#import cleaned creators with old and new creator names\n",
    "df_dict = pd.read_csv('dict.csv')"
   ]
  },
  {
   "cell_type": "code",
   "execution_count": 2,
   "metadata": {
    "scrolled": true
   },
   "outputs": [
    {
     "data": {
      "text/html": [
       "<div>\n",
       "<style scoped>\n",
       "    .dataframe tbody tr th:only-of-type {\n",
       "        vertical-align: middle;\n",
       "    }\n",
       "\n",
       "    .dataframe tbody tr th {\n",
       "        vertical-align: top;\n",
       "    }\n",
       "\n",
       "    .dataframe thead th {\n",
       "        text-align: right;\n",
       "    }\n",
       "</style>\n",
       "<table border=\"1\" class=\"dataframe\">\n",
       "  <thead>\n",
       "    <tr style=\"text-align: right;\">\n",
       "      <th></th>\n",
       "      <th>Old</th>\n",
       "      <th>New</th>\n",
       "    </tr>\n",
       "  </thead>\n",
       "  <tbody>\n",
       "    <tr>\n",
       "      <th>0</th>\n",
       "      <td>[Bauzong studio]</td>\n",
       "      <td>Bauzong Studio</td>\n",
       "    </tr>\n",
       "    <tr>\n",
       "      <th>1</th>\n",
       "      <td>[Bing Kong Tong]</td>\n",
       "      <td>Bing Kong Tong</td>\n",
       "    </tr>\n",
       "    <tr>\n",
       "      <th>2</th>\n",
       "      <td>[Bohm, Charles]</td>\n",
       "      <td>Bohm, Charles</td>\n",
       "    </tr>\n",
       "    <tr>\n",
       "      <th>3</th>\n",
       "      <td>[Bonhene?]</td>\n",
       "      <td>Borchers, Louis</td>\n",
       "    </tr>\n",
       "    <tr>\n",
       "      <th>4</th>\n",
       "      <td>[Burrard Yarrows Corporation]</td>\n",
       "      <td>Yarrows Limited</td>\n",
       "    </tr>\n",
       "  </tbody>\n",
       "</table>\n",
       "</div>"
      ],
      "text/plain": [
       "                             Old              New\n",
       "0               [Bauzong studio]   Bauzong Studio\n",
       "1               [Bing Kong Tong]   Bing Kong Tong\n",
       "2                [Bohm, Charles]    Bohm, Charles\n",
       "3                     [Bonhene?]  Borchers, Louis\n",
       "4  [Burrard Yarrows Corporation]  Yarrows Limited"
      ]
     },
     "execution_count": 2,
     "metadata": {},
     "output_type": "execute_result"
    }
   ],
   "source": [
    "#the first five rows of the data. To see the full data, input df_dict.\n",
    "df_dict.head()"
   ]
  },
  {
   "cell_type": "code",
   "execution_count": 3,
   "metadata": {},
   "outputs": [],
   "source": [
    "#Convert dataframe to a list, in convinience for replace creators\n",
    "c_dict=df_dict.values.tolist()"
   ]
  },
  {
   "cell_type": "code",
   "execution_count": 4,
   "metadata": {},
   "outputs": [
    {
     "data": {
      "text/plain": [
       "1320"
      ]
     },
     "execution_count": 4,
     "metadata": {},
     "output_type": "execute_result"
    }
   ],
   "source": [
    "#The lenth of the list is 1320, which means there are 1320 pairs of old and new creators\n",
    "len(c_dict)"
   ]
  },
  {
   "cell_type": "markdown",
   "metadata": {},
   "source": [
    "## Step 2: Import chung_creator.csv"
   ]
  },
  {
   "cell_type": "code",
   "execution_count": 5,
   "metadata": {
    "scrolled": true
   },
   "outputs": [
    {
     "data": {
      "text/html": [
       "<div>\n",
       "<style scoped>\n",
       "    .dataframe tbody tr th:only-of-type {\n",
       "        vertical-align: middle;\n",
       "    }\n",
       "\n",
       "    .dataframe tbody tr th {\n",
       "        vertical-align: top;\n",
       "    }\n",
       "\n",
       "    .dataframe thead th {\n",
       "        text-align: right;\n",
       "    }\n",
       "</style>\n",
       "<table border=\"1\" class=\"dataframe\">\n",
       "  <thead>\n",
       "    <tr style=\"text-align: right;\">\n",
       "      <th></th>\n",
       "      <th>ID</th>\n",
       "      <th>RBSC_Access Identifier</th>\n",
       "      <th>RBSC_Creator</th>\n",
       "    </tr>\n",
       "  </thead>\n",
       "  <tbody>\n",
       "    <tr>\n",
       "      <th>0</th>\n",
       "      <td>1</td>\n",
       "      <td>CC-PH-28-1</td>\n",
       "      <td>[unknown]</td>\n",
       "    </tr>\n",
       "    <tr>\n",
       "      <th>1</th>\n",
       "      <td>2</td>\n",
       "      <td>CC-PH-28-2</td>\n",
       "      <td>[unknown]</td>\n",
       "    </tr>\n",
       "    <tr>\n",
       "      <th>2</th>\n",
       "      <td>3</td>\n",
       "      <td>CC-PH-28-3</td>\n",
       "      <td>Browne, D. L.</td>\n",
       "    </tr>\n",
       "    <tr>\n",
       "      <th>3</th>\n",
       "      <td>4</td>\n",
       "      <td>CC-PH-29-1</td>\n",
       "      <td>[unknown]</td>\n",
       "    </tr>\n",
       "    <tr>\n",
       "      <th>4</th>\n",
       "      <td>5</td>\n",
       "      <td>CC-PH-30-1</td>\n",
       "      <td>[unknown]</td>\n",
       "    </tr>\n",
       "  </tbody>\n",
       "</table>\n",
       "</div>"
      ],
      "text/plain": [
       "   ID RBSC_Access Identifier    RBSC_Creator\n",
       "0   1             CC-PH-28-1       [unknown]\n",
       "1   2             CC-PH-28-2       [unknown]\n",
       "2   3             CC-PH-28-3  Browne, D. L. \n",
       "3   4             CC-PH-29-1       [unknown]\n",
       "4   5             CC-PH-30-1       [unknown]"
      ]
     },
     "execution_count": 5,
     "metadata": {},
     "output_type": "execute_result"
    }
   ],
   "source": [
    "#Import chung creators, with the identifier linked to the creator\n",
    "df_chung=pd.read_csv('chung_creator.csv')\n",
    "df_chung.head()"
   ]
  },
  {
   "cell_type": "code",
   "execution_count": 6,
   "metadata": {},
   "outputs": [],
   "source": [
    "df_chung=df_chung.set_index('ID')"
   ]
  },
  {
   "cell_type": "code",
   "execution_count": 7,
   "metadata": {},
   "outputs": [],
   "source": [
    "#Convert dataframe to dictionary for processing\n",
    "chung_creator=df_chung.to_dict()"
   ]
  },
  {
   "cell_type": "code",
   "execution_count": 8,
   "metadata": {},
   "outputs": [
    {
     "data": {
      "text/plain": [
       "'BSL'"
      ]
     },
     "execution_count": 8,
     "metadata": {},
     "output_type": "execute_result"
    }
   ],
   "source": [
    "#Print the creator of records ID 229, which is BSL. This is used as a test case to check if the replacement succeeded.\n",
    "chung_creator[\"RBSC_Creator\"][229]"
   ]
  },
  {
   "cell_type": "code",
   "execution_count": 9,
   "metadata": {},
   "outputs": [
    {
     "data": {
      "text/plain": [
       "{1: '[unknown]',\n",
       " 2: '[unknown]',\n",
       " 3: 'Browne, D. L. ',\n",
       " 4: '[unknown]',\n",
       " 5: '[unknown]',\n",
       " 6: '[unknown]',\n",
       " 7: '[unknown]',\n",
       " 8: '[unknown]',\n",
       " 9: 'David, Kitty',\n",
       " 10: 'David, Kitty',\n",
       " 11: 'David, Kitty',\n",
       " 12: 'Jue, Frank',\n",
       " 13: '[unknown]',\n",
       " 14: '[unknown]',\n",
       " 15: '[unknown]',\n",
       " 16: '[unknown]',\n",
       " 17: '[unknown]',\n",
       " 18: '[unknown]',\n",
       " 19: '[unknown]',\n",
       " 20: '[unknown]'}"
      ]
     },
     "execution_count": 9,
     "metadata": {},
     "output_type": "execute_result"
    }
   ],
   "source": [
    "#Save all creators in a dictionary named \"creators\", with ID and corresponding creators\n",
    "import itertools\n",
    "creators=chung_creator[\"RBSC_Creator\"]\n",
    "dict(itertools.islice(creators.items(), 20))"
   ]
  },
  {
   "cell_type": "code",
   "execution_count": 10,
   "metadata": {},
   "outputs": [],
   "source": [
    "#Store multiple creators as seperate entities\n",
    "for key, creator in creators.items():\n",
    "    creators[key]=list(str(creator).strip(\";\").split(\";\"))"
   ]
  },
  {
   "cell_type": "code",
   "execution_count": 11,
   "metadata": {},
   "outputs": [
    {
     "name": "stdout",
     "output_type": "stream",
     "text": [
      "20302\n"
     ]
    },
    {
     "data": {
      "text/plain": [
       "['Yip, Randall ', ' Canadian Broadcasting Corporation']"
      ]
     },
     "execution_count": 11,
     "metadata": {},
     "output_type": "execute_result"
    }
   ],
   "source": [
    "print(len(creators))\n",
    "creators[55]"
   ]
  },
  {
   "cell_type": "code",
   "execution_count": 12,
   "metadata": {},
   "outputs": [],
   "source": [
    "old_creators_df=pd.DataFrame.from_dict(creators,orient='index')"
   ]
  },
  {
   "cell_type": "code",
   "execution_count": 13,
   "metadata": {},
   "outputs": [
    {
     "data": {
      "text/html": [
       "<div>\n",
       "<style scoped>\n",
       "    .dataframe tbody tr th:only-of-type {\n",
       "        vertical-align: middle;\n",
       "    }\n",
       "\n",
       "    .dataframe tbody tr th {\n",
       "        vertical-align: top;\n",
       "    }\n",
       "\n",
       "    .dataframe thead th {\n",
       "        text-align: right;\n",
       "    }\n",
       "</style>\n",
       "<table border=\"1\" class=\"dataframe\">\n",
       "  <thead>\n",
       "    <tr style=\"text-align: right;\">\n",
       "      <th></th>\n",
       "      <th>0</th>\n",
       "      <th>1</th>\n",
       "      <th>2</th>\n",
       "      <th>3</th>\n",
       "      <th>4</th>\n",
       "      <th>5</th>\n",
       "      <th>6</th>\n",
       "    </tr>\n",
       "  </thead>\n",
       "  <tbody>\n",
       "    <tr>\n",
       "      <th>54</th>\n",
       "      <td>Yip, Randall</td>\n",
       "      <td>None</td>\n",
       "      <td>None</td>\n",
       "      <td>None</td>\n",
       "      <td>None</td>\n",
       "      <td>None</td>\n",
       "      <td>None</td>\n",
       "    </tr>\n",
       "    <tr>\n",
       "      <th>55</th>\n",
       "      <td>Yip, Randall</td>\n",
       "      <td>Canadian Broadcasting Corporation</td>\n",
       "      <td>None</td>\n",
       "      <td>None</td>\n",
       "      <td>None</td>\n",
       "      <td>None</td>\n",
       "      <td>None</td>\n",
       "    </tr>\n",
       "  </tbody>\n",
       "</table>\n",
       "</div>"
      ],
      "text/plain": [
       "                0                                   1     2     3     4     5  \\\n",
       "54   Yip, Randall                                None  None  None  None  None   \n",
       "55  Yip, Randall    Canadian Broadcasting Corporation  None  None  None  None   \n",
       "\n",
       "       6  \n",
       "54  None  \n",
       "55  None  "
      ]
     },
     "execution_count": 13,
     "metadata": {},
     "output_type": "execute_result"
    }
   ],
   "source": [
    "old_creators_df.loc[54:55]"
   ]
  },
  {
   "cell_type": "code",
   "execution_count": 14,
   "metadata": {},
   "outputs": [],
   "source": [
    "creators_new=dict.fromkeys(creators.keys(), [])"
   ]
  },
  {
   "cell_type": "markdown",
   "metadata": {},
   "source": [
    "## Step 3: Update creators in Chung\n",
    "This is the main code to update creators. The code will first loop through the dictionary, for each \"Old\" creator in the dictionary, the code will find all matched creators in the Chung creator list. This function is similar to the \"Replace All\" function in the excel, except that:\n",
    "1. It's more efficient, since Excel can only replace one pair of creators a time; \n",
    "2. In some cases, the \"Replace All\" could cause errors, for example, I want to replace \"Canadian Pacific\" to \"Canadian Pacific Railway Company\". But if I simply use \"replace all\", it will also change \"Canadian Pacific Railway Company\"(which I don't want to change) to \"Canadian Pacific Railway Company Railway Company\"."
   ]
  },
  {
   "cell_type": "code",
   "execution_count": 15,
   "metadata": {},
   "outputs": [],
   "source": [
    "#Replace the creators\n",
    "for x in c_dict:\n",
    "#Only update the record if the new creator is different from the old.     \n",
    "    if x[0]!=x[1]:\n",
    "        for key,z in creators.items():\n",
    "            creators_new[key]=z;\n",
    "            for index, item in enumerate(z):\n",
    "                if str(x[0]).strip()==str(item).strip():\n",
    "                    creators_new[key][index] = str(x[1]).strip()          "
   ]
  },
  {
   "cell_type": "code",
   "execution_count": 16,
   "metadata": {},
   "outputs": [
    {
     "data": {
      "text/plain": [
       "['Birmingham Silver Plate Limited']"
      ]
     },
     "execution_count": 16,
     "metadata": {},
     "output_type": "execute_result"
    }
   ],
   "source": [
    "#Test if the creator is updated. The old no.229 creator is \"BSL\". It has been updated to \"Birmingham Silver Plate Limited\"\n",
    "creators[229]"
   ]
  },
  {
   "cell_type": "code",
   "execution_count": 17,
   "metadata": {
    "scrolled": true
   },
   "outputs": [
    {
     "data": {
      "text/plain": [
       "['Birmingham Silver Plate Limited']"
      ]
     },
     "execution_count": 17,
     "metadata": {},
     "output_type": "execute_result"
    }
   ],
   "source": [
    "creators_new[229]"
   ]
  },
  {
   "cell_type": "code",
   "execution_count": 18,
   "metadata": {},
   "outputs": [],
   "source": [
    "#Remove spaces at the beginning or end of the creator\n",
    "for key,z in creators_new.items():\n",
    "    for index, item in enumerate(z):\n",
    "        creators_new[key][index] = str(item).strip()"
   ]
  },
  {
   "cell_type": "code",
   "execution_count": 19,
   "metadata": {
    "scrolled": true
   },
   "outputs": [
    {
     "data": {
      "text/plain": [
       "['Yip, Randall', 'Canadian Broadcasting Corporation']"
      ]
     },
     "execution_count": 19,
     "metadata": {},
     "output_type": "execute_result"
    }
   ],
   "source": [
    "creators_new[55]"
   ]
  },
  {
   "cell_type": "markdown",
   "metadata": {},
   "source": [
    "### Count the times of each creator appeared in Chung collection"
   ]
  },
  {
   "cell_type": "code",
   "execution_count": 20,
   "metadata": {},
   "outputs": [],
   "source": [
    "word_freq={}\n",
    "for key,z in creators_new.items():\n",
    "    for index, item in enumerate(z):\n",
    "        if item not in word_freq:\n",
    "            word_freq[item] = 0\n",
    "        word_freq[item] += 1"
   ]
  },
  {
   "cell_type": "code",
   "execution_count": 21,
   "metadata": {},
   "outputs": [
    {
     "data": {
      "text/plain": [
       "1643"
      ]
     },
     "execution_count": 21,
     "metadata": {},
     "output_type": "execute_result"
    }
   ],
   "source": [
    "# How many times does \"Canadian Pacific Railway Company\" appeared in the dataset\n",
    "word_freq['Canadian Pacific Railway Company']"
   ]
  },
  {
   "cell_type": "code",
   "execution_count": 22,
   "metadata": {},
   "outputs": [],
   "source": [
    "word_freq_df=pd.DataFrame.from_dict(word_freq,orient='index')"
   ]
  },
  {
   "cell_type": "code",
   "execution_count": 23,
   "metadata": {},
   "outputs": [],
   "source": [
    "# Export the frequency of creators to \"word_freq.csv\"\n",
    "word_freq_df.to_csv('word_freq.csv')"
   ]
  },
  {
   "cell_type": "markdown",
   "metadata": {},
   "source": [
    "### Save the creators as CSV Template required"
   ]
  },
  {
   "cell_type": "code",
   "execution_count": 24,
   "metadata": {},
   "outputs": [],
   "source": [
    "updated_creators_df=pd.DataFrame.from_dict(creators_new,orient='index')"
   ]
  },
  {
   "cell_type": "code",
   "execution_count": 25,
   "metadata": {},
   "outputs": [],
   "source": [
    "creators_new_pipe=creators_new"
   ]
  },
  {
   "cell_type": "code",
   "execution_count": 26,
   "metadata": {},
   "outputs": [],
   "source": [
    "#For multiple creators, use pipe seperators(\"|\") to seperate them for import to AtoM\n",
    "for key,z in creators_new_pipe.items():\n",
    "    creators_new_pipe[key]=\"|\".join(z)"
   ]
  },
  {
   "cell_type": "code",
   "execution_count": 27,
   "metadata": {
    "scrolled": false
   },
   "outputs": [
    {
     "data": {
      "text/plain": [
       "20302"
      ]
     },
     "execution_count": 27,
     "metadata": {},
     "output_type": "execute_result"
    }
   ],
   "source": [
    "#Check the number of records\n",
    "len(creators_new_pipe)"
   ]
  },
  {
   "cell_type": "code",
   "execution_count": 28,
   "metadata": {},
   "outputs": [],
   "source": [
    "updated_creators_pipe_df=pd.DataFrame.from_dict(creators_new_pipe,orient='index')"
   ]
  },
  {
   "cell_type": "code",
   "execution_count": 29,
   "metadata": {},
   "outputs": [
    {
     "data": {
      "text/html": [
       "<div>\n",
       "<style scoped>\n",
       "    .dataframe tbody tr th:only-of-type {\n",
       "        vertical-align: middle;\n",
       "    }\n",
       "\n",
       "    .dataframe tbody tr th {\n",
       "        vertical-align: top;\n",
       "    }\n",
       "\n",
       "    .dataframe thead th {\n",
       "        text-align: right;\n",
       "    }\n",
       "</style>\n",
       "<table border=\"1\" class=\"dataframe\">\n",
       "  <thead>\n",
       "    <tr style=\"text-align: right;\">\n",
       "      <th></th>\n",
       "      <th>0</th>\n",
       "    </tr>\n",
       "  </thead>\n",
       "  <tbody>\n",
       "    <tr>\n",
       "      <th>220</th>\n",
       "      <td>Elkington and Company</td>\n",
       "    </tr>\n",
       "    <tr>\n",
       "      <th>221</th>\n",
       "      <td>Elkington and Company</td>\n",
       "    </tr>\n",
       "    <tr>\n",
       "      <th>222</th>\n",
       "      <td>International Silver Company of Canada</td>\n",
       "    </tr>\n",
       "    <tr>\n",
       "      <th>223</th>\n",
       "      <td>Birmingham Silver Plate Limited</td>\n",
       "    </tr>\n",
       "    <tr>\n",
       "      <th>224</th>\n",
       "      <td>Elkington and Company</td>\n",
       "    </tr>\n",
       "    <tr>\n",
       "      <th>225</th>\n",
       "      <td>Elkington and Company</td>\n",
       "    </tr>\n",
       "    <tr>\n",
       "      <th>226</th>\n",
       "      <td>Elkington and Company</td>\n",
       "    </tr>\n",
       "    <tr>\n",
       "      <th>227</th>\n",
       "      <td>Elkington and Company</td>\n",
       "    </tr>\n",
       "    <tr>\n",
       "      <th>228</th>\n",
       "      <td>Elkington and Company</td>\n",
       "    </tr>\n",
       "    <tr>\n",
       "      <th>229</th>\n",
       "      <td>Birmingham Silver Plate Limited</td>\n",
       "    </tr>\n",
       "    <tr>\n",
       "      <th>230</th>\n",
       "      <td>Mappin and Webb</td>\n",
       "    </tr>\n",
       "  </tbody>\n",
       "</table>\n",
       "</div>"
      ],
      "text/plain": [
       "                                          0\n",
       "220                   Elkington and Company\n",
       "221                   Elkington and Company\n",
       "222  International Silver Company of Canada\n",
       "223         Birmingham Silver Plate Limited\n",
       "224                   Elkington and Company\n",
       "225                   Elkington and Company\n",
       "226                   Elkington and Company\n",
       "227                   Elkington and Company\n",
       "228                   Elkington and Company\n",
       "229         Birmingham Silver Plate Limited\n",
       "230                         Mappin and Webb"
      ]
     },
     "execution_count": 29,
     "metadata": {},
     "output_type": "execute_result"
    }
   ],
   "source": [
    "#Check if the creators are updated\n",
    "updated_creators_pipe_df.loc[220:230]"
   ]
  },
  {
   "cell_type": "code",
   "execution_count": 30,
   "metadata": {},
   "outputs": [],
   "source": [
    "#Save the updated creator to \"chungCreatorUpdated.csv\"\n",
    "updated_creators_pipe_df.to_csv('chungCreatorUpdated.csv')"
   ]
  }
 ],
 "metadata": {
  "kernelspec": {
   "display_name": "Python 3",
   "language": "python",
   "name": "python3"
  },
  "language_info": {
   "codemirror_mode": {
    "name": "ipython",
    "version": 3
   },
   "file_extension": ".py",
   "mimetype": "text/x-python",
   "name": "python",
   "nbconvert_exporter": "python",
   "pygments_lexer": "ipython3",
   "version": "3.6.5"
  }
 },
 "nbformat": 4,
 "nbformat_minor": 2
}
